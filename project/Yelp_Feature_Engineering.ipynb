{
 "cells": [
  {
   "cell_type": "code",
   "execution_count": 1,
   "id": "2ca2e4dc-d2f2-4cc4-8d42-e34dfd935a8a",
   "metadata": {
    "tags": []
   },
   "outputs": [
    {
     "name": "stdout",
     "output_type": "stream",
     "text": [
      "Requirement already satisfied: fastparquet in /opt/conda/miniconda3/lib/python3.11/site-packages (2023.10.1)\n",
      "Requirement already satisfied: pandas>=1.5.0 in /opt/conda/miniconda3/lib/python3.11/site-packages (from fastparquet) (2.1.4)\n",
      "Requirement already satisfied: numpy>=1.20.3 in /opt/conda/miniconda3/lib/python3.11/site-packages (from fastparquet) (1.26.4)\n",
      "Requirement already satisfied: cramjam>=2.3 in /opt/conda/miniconda3/lib/python3.11/site-packages (from fastparquet) (2.8.4rc3)\n",
      "Requirement already satisfied: fsspec in /opt/conda/miniconda3/lib/python3.11/site-packages (from fastparquet) (2023.12.2)\n",
      "Requirement already satisfied: packaging in /opt/conda/miniconda3/lib/python3.11/site-packages (from fastparquet) (23.1)\n",
      "Requirement already satisfied: python-dateutil>=2.8.2 in /opt/conda/miniconda3/lib/python3.11/site-packages (from pandas>=1.5.0->fastparquet) (2.9.0)\n",
      "Requirement already satisfied: pytz>=2020.1 in /opt/conda/miniconda3/lib/python3.11/site-packages (from pandas>=1.5.0->fastparquet) (2024.2)\n",
      "Requirement already satisfied: tzdata>=2022.1 in /opt/conda/miniconda3/lib/python3.11/site-packages (from pandas>=1.5.0->fastparquet) (2024.2)\n",
      "Requirement already satisfied: six>=1.5 in /opt/conda/miniconda3/lib/python3.11/site-packages (from python-dateutil>=2.8.2->pandas>=1.5.0->fastparquet) (1.16.0)\n",
      "\u001b[33mWARNING: Running pip as the 'root' user can result in broken permissions and conflicting behaviour with the system package manager. It is recommended to use a virtual environment instead: https://pip.pypa.io/warnings/venv\u001b[0m\u001b[33m\n",
      "\u001b[0m"
     ]
    }
   ],
   "source": [
    "!pip install fastparquet"
   ]
  },
  {
   "cell_type": "code",
   "execution_count": 2,
   "id": "e9121a29",
   "metadata": {},
   "outputs": [
    {
     "name": "stdout",
     "output_type": "stream",
     "text": [
      "Requirement already satisfied: textblob in /opt/conda/miniconda3/lib/python3.11/site-packages (0.18.0.post0)\n",
      "Requirement already satisfied: nltk>=3.8 in /opt/conda/miniconda3/lib/python3.11/site-packages (from textblob) (3.8.2)\n",
      "Requirement already satisfied: click in /opt/conda/miniconda3/lib/python3.11/site-packages (from nltk>=3.8->textblob) (8.1.7)\n",
      "Requirement already satisfied: joblib in /opt/conda/miniconda3/lib/python3.11/site-packages (from nltk>=3.8->textblob) (1.4.2)\n",
      "Requirement already satisfied: regex>=2021.8.3 in /opt/conda/miniconda3/lib/python3.11/site-packages (from nltk>=3.8->textblob) (2023.12.25)\n",
      "Requirement already satisfied: tqdm in /opt/conda/miniconda3/lib/python3.11/site-packages (from nltk>=3.8->textblob) (4.65.0)\n",
      "\u001b[33mWARNING: Running pip as the 'root' user can result in broken permissions and conflicting behaviour with the system package manager. It is recommended to use a virtual environment instead: https://pip.pypa.io/warnings/venv\u001b[0m\u001b[33m\n",
      "\u001b[0mNote: you may need to restart the kernel to use updated packages.\n"
     ]
    }
   ],
   "source": [
    "%pip install textblob"
   ]
  },
  {
   "cell_type": "code",
   "execution_count": 3,
   "id": "6894740e-bcc6-40df-be60-bd3d4dabe6fb",
   "metadata": {
    "tags": []
   },
   "outputs": [],
   "source": [
    "# Modules to read parquet files\n",
    "import pyarrow\n",
    "import fastparquet\n",
    "import pandas as pd"
   ]
  },
  {
   "cell_type": "code",
   "execution_count": 4,
   "id": "50e811fc-79ca-426c-af1f-11363db1d380",
   "metadata": {
    "tags": []
   },
   "outputs": [],
   "source": [
    "import pyspark\n",
    "from pyspark.sql.functions import *"
   ]
  },
  {
   "cell_type": "code",
   "execution_count": 5,
   "id": "49ebb450-47ba-4ada-8be2-85cdb7e8645e",
   "metadata": {
    "tags": []
   },
   "outputs": [],
   "source": [
    "spark = SparkSession.builder.getOrCreate()"
   ]
  },
  {
   "cell_type": "code",
   "execution_count": 6,
   "id": "32bbb852-785c-4215-8130-f19b9a810156",
   "metadata": {
    "tags": []
   },
   "outputs": [],
   "source": [
    "folder_path = \"gs://yelpfrog/cleaned/cleaned_\""
   ]
  },
  {
   "cell_type": "code",
   "execution_count": 7,
   "id": "f942771f-63e8-4acd-8a1e-29d93531c2cd",
   "metadata": {
    "tags": []
   },
   "outputs": [
    {
     "name": "stderr",
     "output_type": "stream",
     "text": [
      "                                                                                \r"
     ]
    }
   ],
   "source": [
    "business = spark.read.parquet(f\"{folder_path}business.parquet/*\", engine='pyarrow')"
   ]
  },
  {
   "cell_type": "code",
   "execution_count": 8,
   "id": "090e192d-1aaf-4d97-822a-6d298714e30e",
   "metadata": {},
   "outputs": [],
   "source": [
    "review = spark.read.parquet(f\"{folder_path}review.parquet/*\", engine='pyarrow')"
   ]
  },
  {
   "cell_type": "code",
   "execution_count": 9,
   "id": "da2919cb",
   "metadata": {},
   "outputs": [],
   "source": [
    "# Join review to business while rearranging columns to make it look better\n",
    "business_review = business.join(review, on='business_id').select(\n",
    "    'name', 'address', 'city', 'state', 'postal_code',\n",
    "    'text', 'review_count', 'useful', \n",
    "    review.stars.alias('review_stars')\n",
    ")"
   ]
  },
  {
   "cell_type": "code",
   "execution_count": 10,
   "id": "7e520c71-6201-4d46-8fb7-127cda617f5e",
   "metadata": {},
   "outputs": [
    {
     "name": "stdout",
     "output_type": "stream",
     "text": [
      "root\n",
      " |-- name: string (nullable = true)\n",
      " |-- address: string (nullable = true)\n",
      " |-- city: string (nullable = true)\n",
      " |-- state: string (nullable = true)\n",
      " |-- postal_code: string (nullable = true)\n",
      " |-- text: string (nullable = true)\n",
      " |-- review_count: long (nullable = true)\n",
      " |-- useful: long (nullable = true)\n",
      " |-- review_stars: double (nullable = true)\n",
      "\n"
     ]
    }
   ],
   "source": [
    "business_review.printSchema()"
   ]
  },
  {
   "cell_type": "markdown",
   "id": "98a6bc26",
   "metadata": {},
   "source": [
    "# Feature Engineering"
   ]
  },
  {
   "cell_type": "code",
   "execution_count": 11,
   "id": "38b4bc0f-8801-4b8c-85a0-e9f7adc5d548",
   "metadata": {},
   "outputs": [],
   "source": [
    "from pyspark.ml.feature import Bucketizer, StringIndexer, OneHotEncoder, VectorAssembler"
   ]
  },
  {
   "cell_type": "code",
   "execution_count": 12,
   "id": "e9a0beed",
   "metadata": {},
   "outputs": [],
   "source": [
    "from textblob import TextBlob\n",
    "from pyspark.sql.types import DoubleType\n",
    "# from pyspark.sql.functions import col, isnan, when, count, udf"
   ]
  },
  {
   "cell_type": "code",
   "execution_count": 13,
   "id": "f43951b3",
   "metadata": {},
   "outputs": [
    {
     "name": "stderr",
     "output_type": "stream",
     "text": [
      "                                                                                \r"
     ]
    }
   ],
   "source": [
    "# Create buckets based on percentile\n",
    "percentiles = business_review.select(\n",
    "    percentile_approx('review_count', [0.2, 0.4, 0.6, 0.8]).alias('percentiles')\n",
    ").collect()[0][0]"
   ]
  },
  {
   "cell_type": "code",
   "execution_count": 14,
   "id": "4c62a261",
   "metadata": {},
   "outputs": [],
   "source": [
    "# 5 buckets \n",
    "bucket_review_count = Bucketizer(splits= [0.0] + list(percentiles) + [float('inf')], \n",
    "                                     inputCol='review_count', \n",
    "                                     outputCol='review_count_buckets')"
   ]
  },
  {
   "cell_type": "code",
   "execution_count": 15,
   "id": "7086e91f",
   "metadata": {},
   "outputs": [],
   "source": [
    "indexer = StringIndexer(inputCols=[\"city\", \"state\"], \n",
    "                        outputCols=[\"city_index\", \"state_index\"])"
   ]
  },
  {
   "cell_type": "code",
   "execution_count": 16,
   "id": "dcd8c710",
   "metadata": {},
   "outputs": [],
   "source": [
    "encoder = OneHotEncoder(inputCols=['review_count_buckets', 'city_index', 'state_index'], \n",
    "                        outputCols=['encoded_review_count', 'encoded_city', 'encoded_state']\n",
    "                       )"
   ]
  },
  {
   "cell_type": "code",
   "execution_count": 17,
   "id": "9e70318b",
   "metadata": {},
   "outputs": [],
   "source": [
    "# Create a function to perform sentiment analysis on some text\n",
    "def sentiment_analysis(text):\n",
    "    sentiment = TextBlob(text).sentiment.polarity\n",
    "    return sentiment"
   ]
  },
  {
   "cell_type": "code",
   "execution_count": 18,
   "id": "cfa0a036",
   "metadata": {},
   "outputs": [],
   "source": [
    "# Turn function into a UDF\n",
    "sentiment_analysis_udf = udf(sentiment_analysis, DoubleType())"
   ]
  },
  {
   "cell_type": "code",
   "execution_count": 19,
   "id": "fc3000f6",
   "metadata": {},
   "outputs": [],
   "source": [
    "from pyspark.ml import Transformer"
   ]
  },
  {
   "cell_type": "code",
   "execution_count": null,
   "id": "19e347ea",
   "metadata": {},
   "outputs": [],
   "source": [
    "# Allows sentiment_score to integrate into pipeline\n",
    "class SentimentAnalysisTransformer(Transformer):\n",
    "    def __init__(self, inputCol=\"text\", outputCol=\"sentiment_score\"):\n",
    "        super().__init__()\n",
    "        self.inputCol = inputCol\n",
    "        self.outputCol = outputCol\n",
    "    def _transform(self, df):\n",
    "        return df.withColumn(self.outputCol, sentiment_analysis_udf(df[self.inputCol]))"
   ]
  },
  {
   "cell_type": "code",
   "execution_count": 21,
   "id": "1f4cff6c",
   "metadata": {},
   "outputs": [],
   "source": [
    "sentiment_transformer = SentimentAnalysisTransformer(inputCol=\"text\", outputCol=\"sentiment_score\")"
   ]
  },
  {
   "cell_type": "code",
   "execution_count": 22,
   "id": "ef1be4a2-c2f1-4b0b-adf5-76e40c9c06a6",
   "metadata": {},
   "outputs": [],
   "source": [
    "# Want to include useful to the Vector\n",
    "assembler = VectorAssembler(inputCols=['encoded_review_count',\n",
    "                                       'encoded_city', 'encoded_state',\n",
    "                                       'sentiment_score'\n",
    "                                      ],\n",
    "                                      outputCol='features')"
   ]
  },
  {
   "cell_type": "markdown",
   "id": "eceddae4",
   "metadata": {},
   "source": [
    "# Show Features In A Copy"
   ]
  },
  {
   "cell_type": "code",
   "execution_count": 23,
   "id": "bc6ff663",
   "metadata": {},
   "outputs": [],
   "source": [
    "# Make copy of sdf to show features while keeping original the same\n",
    "business_review_features = business_review.select(\"*\")"
   ]
  },
  {
   "cell_type": "code",
   "execution_count": 24,
   "id": "6108f487",
   "metadata": {},
   "outputs": [],
   "source": [
    "business_review_features = bucket_review_count.transform(business_review_features)"
   ]
  },
  {
   "cell_type": "code",
   "execution_count": 25,
   "id": "ab6131c4",
   "metadata": {},
   "outputs": [
    {
     "name": "stderr",
     "output_type": "stream",
     "text": [
      "                                                                                \r"
     ]
    }
   ],
   "source": [
    "business_review_features = indexer.fit(business_review_features).transform(business_review_features)"
   ]
  },
  {
   "cell_type": "code",
   "execution_count": 26,
   "id": "968ad3fb",
   "metadata": {},
   "outputs": [],
   "source": [
    "business_review_features = encoder.fit(business_review_features).transform(business_review_features)"
   ]
  },
  {
   "cell_type": "code",
   "execution_count": 27,
   "id": "140ec6b5",
   "metadata": {},
   "outputs": [],
   "source": [
    "# Apply the sentiment analysis function to the text column\n",
    "# and create a new column sentiment_score\n",
    "business_review_features = business_review_features.withColumn('sentiment_score',\n",
    "                                             sentiment_analysis_udf(business_review['text'])\n",
    "                                                              )"
   ]
  },
  {
   "cell_type": "code",
   "execution_count": 28,
   "id": "78cbf62a",
   "metadata": {},
   "outputs": [],
   "source": [
    "business_review_features = assembler.transform(business_review_features)"
   ]
  },
  {
   "cell_type": "code",
   "execution_count": 29,
   "id": "a7e26c03",
   "metadata": {},
   "outputs": [
    {
     "name": "stdout",
     "output_type": "stream",
     "text": [
      "root\n",
      " |-- name: string (nullable = true)\n",
      " |-- address: string (nullable = true)\n",
      " |-- city: string (nullable = true)\n",
      " |-- state: string (nullable = true)\n",
      " |-- postal_code: string (nullable = true)\n",
      " |-- text: string (nullable = true)\n",
      " |-- review_count: long (nullable = true)\n",
      " |-- useful: long (nullable = true)\n",
      " |-- review_stars: double (nullable = true)\n",
      " |-- review_count_buckets: double (nullable = true)\n",
      " |-- city_index: double (nullable = false)\n",
      " |-- state_index: double (nullable = false)\n",
      " |-- encoded_review_count: vector (nullable = true)\n",
      " |-- encoded_city: vector (nullable = true)\n",
      " |-- encoded_state: vector (nullable = true)\n",
      " |-- sentiment_score: double (nullable = true)\n",
      " |-- features: vector (nullable = true)\n",
      "\n"
     ]
    }
   ],
   "source": [
    "business_review_features.printSchema()"
   ]
  },
  {
   "cell_type": "code",
   "execution_count": 30,
   "id": "bb20f6d9",
   "metadata": {
    "scrolled": false
   },
   "outputs": [
    {
     "name": "stderr",
     "output_type": "stream",
     "text": [
      "\r\n",
      "[Stage 12:>                                                         (0 + 1) / 1]\r"
     ]
    },
    {
     "name": "stdout",
     "output_type": "stream",
     "text": [
      "+--------------------+------------------+---------------+--------------------+-----------------------------------------------------------+\n",
      "|encoded_review_count|encoded_city      |encoded_state  |sentiment_score     |features                                                   |\n",
      "+--------------------+------------------+---------------+--------------------+-----------------------------------------------------------+\n",
      "|(4,[3],[1.0])       |(1415,[186],[1.0])|(26,[1],[1.0]) |0.3680555555555556  |(1446,[3,190,1420,1445],[1.0,1.0,1.0,0.3680555555555556])  |\n",
      "|(4,[0],[1.0])       |(1415,[482],[1.0])|(26,[0],[1.0]) |0.2507575757575758  |(1446,[0,486,1419,1445],[1.0,1.0,1.0,0.2507575757575758])  |\n",
      "|(4,[2],[1.0])       |(1415,[164],[1.0])|(26,[0],[1.0]) |0.4200892857142857  |(1446,[2,168,1419,1445],[1.0,1.0,1.0,0.4200892857142857])  |\n",
      "|(4,[1],[1.0])       |(1415,[6],[1.0])  |(26,[7],[1.0]) |0.35666666666666663 |(1446,[1,10,1426,1445],[1.0,1.0,1.0,0.35666666666666663])  |\n",
      "|(4,[0],[1.0])       |(1415,[13],[1.0]) |(26,[7],[1.0]) |0.44000000000000006 |(1446,[0,17,1426,1445],[1.0,1.0,1.0,0.44000000000000006])  |\n",
      "|(4,[2],[1.0])       |(1415,[2],[1.0])  |(26,[1],[1.0]) |0.695               |(1446,[2,6,1420,1445],[1.0,1.0,1.0,0.695])                 |\n",
      "|(4,[1],[1.0])       |(1415,[31],[1.0]) |(26,[1],[1.0]) |0.48333333333333334 |(1446,[1,35,1420,1445],[1.0,1.0,1.0,0.48333333333333334])  |\n",
      "|(4,[2],[1.0])       |(1415,[1],[1.0])  |(26,[2],[1.0]) |0.215625            |(1446,[2,5,1421,1445],[1.0,1.0,1.0,0.215625])              |\n",
      "|(4,[1],[1.0])       |(1415,[176],[1.0])|(26,[13],[1.0])|0.041874999999999996|(1446,[1,180,1432,1445],[1.0,1.0,1.0,0.041874999999999996])|\n",
      "|(4,[1],[1.0])       |(1415,[130],[1.0])|(26,[0],[1.0]) |1.0                 |(1446,[1,134,1419,1445],[1.0,1.0,1.0,1.0])                 |\n",
      "|(4,[2],[1.0])       |(1415,[6],[1.0])  |(26,[7],[1.0]) |0.20049019607843138 |(1446,[2,10,1426,1445],[1.0,1.0,1.0,0.20049019607843138])  |\n",
      "|(4,[],[])           |(1415,[1],[1.0])  |(26,[2],[1.0]) |0.16944444444444445 |(1446,[5,1421,1445],[1.0,1.0,0.16944444444444445])         |\n",
      "|(4,[],[])           |(1415,[0],[1.0])  |(26,[0],[1.0]) |0.20043859649122808 |(1446,[4,1419,1445],[1.0,1.0,0.20043859649122808])         |\n",
      "|(4,[0],[1.0])       |(1415,[0],[1.0])  |(26,[0],[1.0]) |-0.10185185185185185|(1446,[0,4,1419,1445],[1.0,1.0,1.0,-0.10185185185185185])  |\n",
      "|(4,[0],[1.0])       |(1415,[4],[1.0])  |(26,[6],[1.0]) |0.011634828349944627|(1446,[0,8,1425,1445],[1.0,1.0,1.0,0.011634828349944627])  |\n",
      "|(4,[0],[1.0])       |(1415,[323],[1.0])|(26,[13],[1.0])|0.368452380952381   |(1446,[0,327,1432,1445],[1.0,1.0,1.0,0.368452380952381])   |\n",
      "|(4,[1],[1.0])       |(1415,[6],[1.0])  |(26,[7],[1.0]) |-0.29               |(1446,[1,10,1426,1445],[1.0,1.0,1.0,-0.29])                |\n",
      "|(4,[0],[1.0])       |(1415,[72],[1.0]) |(26,[4],[1.0]) |0.27082417582417584 |(1446,[0,76,1423,1445],[1.0,1.0,1.0,0.27082417582417584])  |\n",
      "|(4,[3],[1.0])       |(1415,[6],[1.0])  |(26,[7],[1.0]) |0.25033483419096625 |(1446,[3,10,1426,1445],[1.0,1.0,1.0,0.25033483419096625])  |\n",
      "|(4,[0],[1.0])       |(1415,[46],[1.0]) |(26,[9],[1.0]) |0.04814814814814814 |(1446,[0,50,1428,1445],[1.0,1.0,1.0,0.04814814814814814])  |\n",
      "+--------------------+------------------+---------------+--------------------+-----------------------------------------------------------+\n",
      "only showing top 20 rows\n",
      "\n"
     ]
    },
    {
     "name": "stderr",
     "output_type": "stream",
     "text": [
      "\r\n",
      "                                                                                \r"
     ]
    }
   ],
   "source": [
    "business_review_features.select(['encoded_review_count',\n",
    "                                 'encoded_city', 'encoded_state',\n",
    "                                 'sentiment_score', \n",
    "                                 'features'\n",
    "                                 ]).show(truncate=False)"
   ]
  },
  {
   "cell_type": "markdown",
   "id": "d1961ad2",
   "metadata": {},
   "source": [
    "# Checking On Original Data"
   ]
  },
  {
   "cell_type": "code",
   "execution_count": 31,
   "id": "ce8ac042",
   "metadata": {},
   "outputs": [
    {
     "name": "stdout",
     "output_type": "stream",
     "text": [
      "root\n",
      " |-- name: string (nullable = true)\n",
      " |-- address: string (nullable = true)\n",
      " |-- city: string (nullable = true)\n",
      " |-- state: string (nullable = true)\n",
      " |-- postal_code: string (nullable = true)\n",
      " |-- text: string (nullable = true)\n",
      " |-- review_count: long (nullable = true)\n",
      " |-- useful: long (nullable = true)\n",
      " |-- review_stars: double (nullable = true)\n",
      "\n"
     ]
    }
   ],
   "source": [
    "business_review.printSchema()"
   ]
  },
  {
   "cell_type": "code",
   "execution_count": 32,
   "id": "686f0635",
   "metadata": {},
   "outputs": [
    {
     "name": "stdout",
     "output_type": "stream",
     "text": [
      "name 0\n",
      "address 0\n",
      "city 0\n",
      "state 0\n",
      "postal_code 0\n"
     ]
    },
    {
     "name": "stderr",
     "output_type": "stream",
     "text": [
      "                                                                                \r"
     ]
    },
    {
     "name": "stdout",
     "output_type": "stream",
     "text": [
      "text 0\n",
      "review_count 0\n"
     ]
    },
    {
     "name": "stderr",
     "output_type": "stream",
     "text": [
      "                                                                                \r"
     ]
    },
    {
     "name": "stdout",
     "output_type": "stream",
     "text": [
      "useful 0\n"
     ]
    },
    {
     "name": "stderr",
     "output_type": "stream",
     "text": [
      "\r\n",
      "[Stage 40:===================>                                    (14 + 8) / 40]\r\n",
      "\r\n",
      "[Stage 40:================================>                       (23 + 8) / 40]\r"
     ]
    },
    {
     "name": "stdout",
     "output_type": "stream",
     "text": [
      "review_stars 0\n"
     ]
    },
    {
     "name": "stderr",
     "output_type": "stream",
     "text": [
      "\r\n",
      "[Stage 40:==================================================>     (36 + 4) / 40]\r\n",
      "\r\n",
      "                                                                                \r"
     ]
    }
   ],
   "source": [
    "# Check for missing values\n",
    "for c in business_review.columns:\n",
    "    print(c, business_review.where(col(c).isNull()).count())"
   ]
  },
  {
   "cell_type": "markdown",
   "id": "cfdc503d",
   "metadata": {},
   "source": [
    "# To Parquet"
   ]
  },
  {
   "cell_type": "code",
   "execution_count": 33,
   "id": "e60d8125",
   "metadata": {},
   "outputs": [],
   "source": [
    "trusted_folder=\"gs://yelpfrog/trusted/\""
   ]
  },
  {
   "cell_type": "code",
   "execution_count": 34,
   "id": "4dcd78e7",
   "metadata": {},
   "outputs": [],
   "source": [
    "feature_engineer = f\"{trusted_folder}business_review_features.parquet\""
   ]
  },
  {
   "cell_type": "code",
   "execution_count": null,
   "id": "e4b8edbe",
   "metadata": {},
   "outputs": [
    {
     "name": "stderr",
     "output_type": "stream",
     "text": [
      "[Stage 44:======================================================> (39 + 1) / 40]\r"
     ]
    }
   ],
   "source": [
    "business_review_features.write.parquet(feature_engineer)"
   ]
  }
 ],
 "metadata": {
  "kernelspec": {
   "display_name": "PySpark",
   "language": "python",
   "name": "pyspark"
  },
  "language_info": {
   "codemirror_mode": {
    "name": "ipython",
    "version": 3
   },
   "file_extension": ".py",
   "mimetype": "text/x-python",
   "name": "python",
   "nbconvert_exporter": "python",
   "pygments_lexer": "ipython3",
   "version": "3.11.8"
  }
 },
 "nbformat": 4,
 "nbformat_minor": 5
}
